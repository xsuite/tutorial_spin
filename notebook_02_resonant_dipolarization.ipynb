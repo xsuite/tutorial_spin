{
 "cells": [
  {
   "cell_type": "markdown",
   "id": "a86d80ee-f94e-42f2-831c-06f544a46e8c",
   "metadata": {},
   "source": [
    "# Resonant depolarization"
   ]
  },
  {
   "cell_type": "code",
   "execution_count": 1,
   "id": "6ad8e8c0-13df-4c29-a89a-fd9577feffda",
   "metadata": {},
   "outputs": [],
   "source": [
    "%matplotlib widget"
   ]
  },
  {
   "cell_type": "code",
   "execution_count": 2,
   "id": "1651fb15-bcb4-46b5-99d0-a24101f9f29e",
   "metadata": {},
   "outputs": [],
   "source": [
    "import xtrack as xt\n",
    "import xpart as xp\n",
    "import xobjects as xo\n",
    "import numpy as np\n",
    "import matplotlib.pyplot as plt"
   ]
  },
  {
   "cell_type": "markdown",
   "id": "d6379fac-771c-4704-b4b4-cd4301434788",
   "metadata": {},
   "source": [
    "### Load and configure ring model"
   ]
  },
  {
   "cell_type": "code",
   "execution_count": 3,
   "id": "439024e2-c971-493a-b365-7ab0aac14f79",
   "metadata": {},
   "outputs": [
    {
     "data": {
      "application/vnd.jupyter.widget-view+json": {
       "model_id": "cbb962c274f34cb3a9bd06fc0242110b",
       "version_major": 2,
       "version_minor": 0
      },
      "text/plain": [
       "Loading line from dict:   0%|          | 0/9667 [00:00<?, ?it/s]"
      ]
     },
     "metadata": {},
     "output_type": "display_data"
    },
    {
     "name": "stdout",
     "output_type": "stream",
     "text": [
      "Done loading line from dict.           \n"
     ]
    }
   ],
   "source": [
    "line = xt.Line.from_json('lattice/lep_sol.json')\n",
    "line.particle_ref.anomalous_magnetic_moment=0.00115965218128\n",
    "line.particle_ref.gamma0 = 89207.78287659843 # to have a spin tune of 103.45\n",
    "spin_tune = line.particle_ref.anomalous_magnetic_moment[0]*line.particle_ref.gamma0[0]"
   ]
  },
  {
   "cell_type": "code",
   "execution_count": 4,
   "id": "c229bf96-b72b-428a-bc89-ebfb3a01b2d5",
   "metadata": {},
   "outputs": [],
   "source": [
    "# RF\n",
    "line['vrfc231'] = 12.65  # qs=0.6 with radiation"
   ]
  },
  {
   "cell_type": "code",
   "execution_count": 5,
   "id": "16865bba-68ae-47a1-8d50-62f4ef4f3911",
   "metadata": {},
   "outputs": [
    {
     "name": "stdout",
     "output_type": "stream",
     "text": [
      "                                             \n",
      "Optimize - start penalty: 2.635                             \n",
      "Matching: model call n. 9 penalty = 4.9258e-05              \n",
      "Optimize - end penalty:  4.92578e-05                            \n"
     ]
    },
    {
     "data": {
      "text/plain": [
       "<xtrack.match.OptimizeLine at 0x16c30f350>"
      ]
     },
     "execution_count": 5,
     "metadata": {},
     "output_type": "execute_result"
    }
   ],
   "source": [
    "# Match tunes to those used during polarization measurements\n",
    "# https://cds.cern.ch/record/282605\n",
    "opt = line.match(\n",
    "    method='4d',\n",
    "    solve=False,\n",
    "    vary=xt.VaryList(['kqf', 'kqd'], step=1e-4),\n",
    "    targets=xt.TargetSet(qx=65.10, qy=71.20, tol=1e-4)\n",
    ")\n",
    "opt.solve()"
   ]
  },
  {
   "cell_type": "markdown",
   "id": "9f278bb7-fe44-44ee-bd5b-1598a0f4d714",
   "metadata": {},
   "source": [
    "### No solenoid, no spin bumps"
   ]
  },
  {
   "cell_type": "code",
   "execution_count": 6,
   "id": "59b40fea-6b36-4ec1-8390-58d630f49337",
   "metadata": {},
   "outputs": [],
   "source": [
    "line['on_solenoids'] = 0\n",
    "line['on_spin_bumps'] = 0\n",
    "line['on_coupling_corrections'] = 0"
   ]
  },
  {
   "cell_type": "code",
   "execution_count": 7,
   "id": "1b2991f1-804a-4b3d-88dd-742f00f92182",
   "metadata": {},
   "outputs": [],
   "source": [
    "tw = line.twiss(spin=True)"
   ]
  },
  {
   "cell_type": "code",
   "execution_count": 8,
   "id": "7b0e454d-e404-4dc7-93bd-77ad9ff30a03",
   "metadata": {},
   "outputs": [
    {
     "data": {
      "application/vnd.jupyter.widget-view+json": {
       "model_id": "3db174351e504ef9bb8e354c3f889f72",
       "version_major": 2,
       "version_minor": 0
      },
      "text/plain": [
       "Slicing line:   0%|          | 0/9550 [00:00<?, ?it/s]"
      ]
     },
     "metadata": {},
     "output_type": "display_data"
    }
   ],
   "source": [
    "from chirp_kicker import VerticalChirpKicker\n",
    "kicker = VerticalChirpKicker(\n",
    "    k0sl=0,\n",
    "    q_start=0,\n",
    "    q_end=0,\n",
    "    num_turns=0,\n",
    ")\n",
    "line.insert('spin_kicker', obj=kicker, at='bfkv1.qs18.r2@start')"
   ]
  },
  {
   "cell_type": "code",
   "execution_count": 9,
   "id": "21290e80-6a25-43e5-9152-79bfbde8b1de",
   "metadata": {},
   "outputs": [],
   "source": [
    "line.configure_spin('auto')"
   ]
  },
  {
   "cell_type": "code",
   "execution_count": 10,
   "id": "cfc00714-5ec1-49d6-aeae-28b362a3f78f",
   "metadata": {},
   "outputs": [
    {
     "name": "stdout",
     "output_type": "stream",
     "text": [
      "Compiling ContextCpu kernels...\n",
      "Done compiling ContextCpu kernels.\n"
     ]
    },
    {
     "data": {
      "application/vnd.jupyter.widget-view+json": {
       "model_id": "5f7dbedeeac94c969fee71bb17be2a9e",
       "version_major": 2,
       "version_minor": 0
      },
      "text/plain": [
       "Tracking:   0%|          | 0/15000 [00:00<?, ?it/s]"
      ]
     },
     "metadata": {},
     "output_type": "display_data"
    },
    {
     "data": {
      "application/vnd.jupyter.widget-view+json": {
       "model_id": "6790902780894bf7b872af887d75c611",
       "version_major": 2,
       "version_minor": 0
      },
      "text/plain": [
       "Tracking:   0%|          | 0/15000 [00:00<?, ?it/s]"
      ]
     },
     "metadata": {},
     "output_type": "display_data"
    },
    {
     "data": {
      "application/vnd.jupyter.widget-view+json": {
       "model_id": "390a72b552694b4cb5cfd0460bfbe2fc",
       "version_major": 2,
       "version_minor": 0
      },
      "text/plain": [
       "Tracking:   0%|          | 0/15000 [00:00<?, ?it/s]"
      ]
     },
     "metadata": {},
     "output_type": "display_data"
    }
   ],
   "source": [
    "dq_sweep = 0.003\n",
    "\n",
    "q_start_tests = np.linspace(0.425, 0.455, 5)[1:]\n",
    "\n",
    "q_start_tests = [0.44, 0.448, 0.453]\n",
    "\n",
    "f_list = []\n",
    "spin_list = []\n",
    "\n",
    "for iii, qqq in enumerate(q_start_tests):\n",
    "    num_turns = 15000\n",
    "    q_start_excitation = qqq\n",
    "    q_end_excitation = q_start_excitation + dq_sweep\n",
    "    k0sl_peak = 5e-6\n",
    "\n",
    "    kicker.k0sl = k0sl_peak\n",
    "    kicker.q_start = q_start_excitation\n",
    "    kicker.q_end = q_end_excitation\n",
    "    kicker.num_turns = num_turns\n",
    "\n",
    "    p = tw.particle_on_co.copy()\n",
    "\n",
    "    line.track(p, num_turns=num_turns, turn_by_turn_monitor=True,\n",
    "            with_progress=1000)\n",
    "    mon = line.record_last_track\n",
    "\n",
    "    freq_axis = np.linspace(q_start_excitation, q_end_excitation, num_turns)\n",
    "    f_list.append(freq_axis)\n",
    "    spin_list.append(mon.spin_y[0, :])\n"
   ]
  },
  {
   "cell_type": "code",
   "execution_count": 11,
   "id": "c9baac9f-a7cd-4cce-9342-e001af40604a",
   "metadata": {},
   "outputs": [
    {
     "data": {
      "text/plain": [
       "[<matplotlib.lines.Line2D at 0x157b797d0>]"
      ]
     },
     "execution_count": 11,
     "metadata": {},
     "output_type": "execute_result"
    },
    {
     "data": {
      "application/vnd.jupyter.widget-view+json": {
       "model_id": "2d2acd2bd0a74292b6bf615e722121ec",
       "version_major": 2,
       "version_minor": 0
      },
      "image/png": "[encoded data removed]",
      "text/html": [
       "\n",
       "            <div style=\"display: inline-block;\">\n",
       "                <div class=\"jupyter-widgets widget-label\" style=\"text-align: center;\">\n",
       "                    Figure\n",
       "                </div>\n",
       "                <img src='data:image/png;base64,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' width=640.0/>\n",
       "            </div>\n",
       "        "
      ],
      "text/plain": [
       "Canvas(toolbar=Toolbar(toolitems=[('Home', 'Reset original view', 'home', 'home'), ('Back', 'Back to previous …"
      ]
     },
     "metadata": {},
     "output_type": "display_data"
    }
   ],
   "source": [
    "plt.figure()\n",
    "plt.plot(f_list[0], spin_list[0])\n",
    "plt.plot(f_list[1], spin_list[1])\n",
    "plt.plot(f_list[2], spin_list[2])"
   ]
  },
  {
   "cell_type": "code",
   "execution_count": null,
   "id": "2be27cce-94be-4408-b359-f078119fea72",
   "metadata": {},
   "outputs": [],
   "source": []
  }
 ],
 "metadata": {
  "kernelspec": {
   "display_name": "Python 3 (ipykernel)",
   "language": "python",
   "name": "python3"
  },
  "language_info": {
   "codemirror_mode": {
    "name": "ipython",
    "version": 3
   },
   "file_extension": ".py",
   "mimetype": "text/x-python",
   "name": "python",
   "nbconvert_exporter": "python",
   "pygments_lexer": "ipython3",
   "version": "3.11.11"
  }
 },
 "nbformat": 4,
 "nbformat_minor": 5
}

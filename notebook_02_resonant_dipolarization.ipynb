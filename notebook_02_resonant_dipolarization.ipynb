{
 "cells": [
  {
   "cell_type": "markdown",
   "id": "a86d80ee-f94e-42f2-831c-06f544a46e8c",
   "metadata": {},
   "source": [
    "# Resonant depolarization"
   ]
  },
  {
   "cell_type": "code",
   "execution_count": 1,
   "id": "6ad8e8c0-13df-4c29-a89a-fd9577feffda",
   "metadata": {},
   "outputs": [],
   "source": [
    "%matplotlib widget"
   ]
  },
  {
   "cell_type": "code",
   "execution_count": 2,
   "id": "1651fb15-bcb4-46b5-99d0-a24101f9f29e",
   "metadata": {},
   "outputs": [],
   "source": [
    "import xtrack as xt\n",
    "import xpart as xp\n",
    "import xobjects as xo\n",
    "import numpy as np\n",
    "import matplotlib.pyplot as plt"
   ]
  },
  {
   "cell_type": "markdown",
   "id": "d6379fac-771c-4704-b4b4-cd4301434788",
   "metadata": {},
   "source": [
    "### Load and configure ring model"
   ]
  },
  {
   "cell_type": "code",
   "execution_count": 3,
   "id": "439024e2-c971-493a-b365-7ab0aac14f79",
   "metadata": {},
   "outputs": [
    {
     "data": {
      "application/vnd.jupyter.widget-view+json": {
       "model_id": "3656646855114557bc7e2f1a894d3017",
       "version_major": 2,
       "version_minor": 0
      },
      "text/plain": [
       "Loading line from dict:   0%|          | 0/9667 [00:00<?, ?it/s]"
      ]
     },
     "metadata": {},
     "output_type": "display_data"
    },
    {
     "name": "stdout",
     "output_type": "stream",
     "text": [
      "Done loading line from dict.           \n"
     ]
    }
   ],
   "source": [
    "line = xt.Line.from_json('lattice/lep_sol.json')\n",
    "line.particle_ref.anomalous_magnetic_moment=0.00115965218128\n",
    "line.particle_ref.gamma0 = 89207.78287659843 # to have a spin tune of 103.45\n",
    "spin_tune = line.particle_ref.anomalous_magnetic_moment[0]*line.particle_ref.gamma0[0]"
   ]
  },
  {
   "cell_type": "code",
   "execution_count": 4,
   "id": "c229bf96-b72b-428a-bc89-ebfb3a01b2d5",
   "metadata": {},
   "outputs": [],
   "source": [
    "# RF ON\n",
    "line['vrfc231'] = 12.65  # qs=0.6 with radiation\n",
    "\n",
    "# Solenoids and spin bumps off\n",
    "line['on_solenoids'] = 0\n",
    "line['on_spin_bumps'] = 0\n",
    "line['on_coupling_corrections'] = 0"
   ]
  },
  {
   "cell_type": "code",
   "execution_count": 5,
   "id": "16865bba-68ae-47a1-8d50-62f4ef4f3911",
   "metadata": {},
   "outputs": [
    {
     "name": "stdout",
     "output_type": "stream",
     "text": [
      "Compiling ContextCpu kernels...\n",
      "Done compiling ContextCpu kernels.\n",
      "Compiling ContextCpu kernels...\n",
      "Done compiling ContextCpu kernels.\n",
      "                                             \n",
      "Optimize - start penalty: 2.606                             \n",
      "Matching: model call n. 9 penalty = 3.9777e-05              \n",
      "Optimize - end penalty:  3.97769e-05                            \n"
     ]
    },
    {
     "data": {
      "text/plain": [
       "<xtrack.match.OptimizeLine at 0x139d37610>"
      ]
     },
     "execution_count": 5,
     "metadata": {},
     "output_type": "execute_result"
    }
   ],
   "source": [
    "# Match tunes to those used during polarization measurements\n",
    "# https://cds.cern.ch/record/282605\n",
    "opt = line.match(\n",
    "    method='4d',\n",
    "    solve=False,\n",
    "    vary=xt.VaryList(['kqf', 'kqd'], step=1e-4),\n",
    "    targets=xt.TargetSet(qx=65.10, qy=71.20, tol=1e-4)\n",
    ")\n",
    "opt.solve()"
   ]
  },
  {
   "cell_type": "markdown",
   "id": "2b885287-a0ca-4dfc-91e1-7d1008a2ca10",
   "metadata": {},
   "source": [
    "### Twiss to get $n_0$"
   ]
  },
  {
   "cell_type": "code",
   "execution_count": 6,
   "id": "1b2991f1-804a-4b3d-88dd-742f00f92182",
   "metadata": {},
   "outputs": [
    {
     "name": "stdout",
     "output_type": "stream",
     "text": [
      "Compiling ContextCpu kernels...\n",
      "Done compiling ContextCpu kernels.\n"
     ]
    }
   ],
   "source": [
    "tw = line.twiss(spin=True)"
   ]
  },
  {
   "cell_type": "markdown",
   "id": "6ac55874-54e6-41e8-9300-393a599f1866",
   "metadata": {},
   "source": [
    "### Install a kicker to have a sinusoidal excitation with changing frequency"
   ]
  },
  {
   "cell_type": "code",
   "execution_count": 7,
   "id": "7b0e454d-e404-4dc7-93bd-77ad9ff30a03",
   "metadata": {},
   "outputs": [
    {
     "data": {
      "application/vnd.jupyter.widget-view+json": {
       "model_id": "e7ed9356055e4bb5860dae152d1b0421",
       "version_major": 2,
       "version_minor": 0
      },
      "text/plain": [
       "Slicing line:   0%|          | 0/9550 [00:00<?, ?it/s]"
      ]
     },
     "metadata": {},
     "output_type": "display_data"
    }
   ],
   "source": [
    "from chirp_kicker import VerticalChirpKicker\n",
    "kicker = VerticalChirpKicker(\n",
    "    length=1.6, \n",
    "    k0sl=5e-6, # peak value\n",
    "    q_start=0.44,\n",
    "    q_span=0.003,\n",
    "    num_turns=15000, # Duration of the scan\n",
    ")\n",
    "line.insert('spin_kicker', obj=kicker, at='bfkv1.qs18.r2@start')"
   ]
  },
  {
   "cell_type": "markdown",
   "id": "f8da13d3-15f2-460e-b747-3976c957a4c6",
   "metadata": {},
   "source": [
    " ### Three scans in different spin-tune ranges"
   ]
  },
  {
   "cell_type": "code",
   "execution_count": null,
   "id": "88c1d35b-48fa-49b3-84a9-abf924a65ce7",
   "metadata": {},
   "outputs": [
    {
     "name": "stdout",
     "output_type": "stream",
     "text": [
      "Compiling ContextCpu kernels...\n",
      "Done compiling ContextCpu kernels.\n"
     ]
    },
    {
     "data": {
      "application/vnd.jupyter.widget-view+json": {
       "model_id": "59cb033b7fd8408bb8cc8bc2ab06197e",
       "version_major": 2,
       "version_minor": 0
      },
      "text/plain": [
       "Tracking:   0%|          | 0/15000 [00:00<?, ?it/s]"
      ]
     },
     "metadata": {},
     "output_type": "display_data"
    },
    {
     "data": {
      "application/vnd.jupyter.widget-view+json": {
       "model_id": "835f2b3ae2124b5f87fb1622b4223fba",
       "version_major": 2,
       "version_minor": 0
      },
      "text/plain": [
       "Tracking:   0%|          | 0/15000 [00:00<?, ?it/s]"
      ]
     },
     "metadata": {},
     "output_type": "display_data"
    },
    {
     "data": {
      "application/vnd.jupyter.widget-view+json": {
       "model_id": "50461cfdac364b3ab5f3464faa4ece8f",
       "version_major": 2,
       "version_minor": 0
      },
      "text/plain": [
       "Tracking:   0%|          | 0/15000 [00:00<?, ?it/s]"
      ]
     },
     "metadata": {},
     "output_type": "display_data"
    }
   ],
   "source": [
    "# enable spin tracking\n",
    "line.configure_spin('auto')\n",
    "\n",
    "# Scan in the range (0.44, 0.443)\n",
    "q0_scan_1 = 0.44\n",
    "kicker.q_start = q0_scan_1\n",
    "p = tw.particle_on_co.copy()\n",
    "line.track(p, num_turns=15000, turn_by_turn_monitor=True, with_progress=1000)\n",
    "spin_y_scan1 = line.record_last_track.spin_y[0, :]\n",
    "\n",
    "# Scan in the range (0.448, 0.451)\n",
    "q0_scan_2 = 0.448\n",
    "kicker.q_start = q0_scan_2\n",
    "p = tw.particle_on_co.copy()\n",
    "line.track(p, num_turns=15000, turn_by_turn_monitor=True, with_progress=1000)\n",
    "spin_y_scan2 = line.record_last_track.spin_y[0, :]\n",
    "\n",
    "# Scan in the range (0.453, 0.456)\n",
    "q0_scan_3 = 0.453\n",
    "kicker.q_start = q0_scan_3\n",
    "p = tw.particle_on_co.copy()\n",
    "line.track(p, num_turns=15000, turn_by_turn_monitor=True, with_progress=1000)\n",
    "spin_y_scan3 = line.record_last_track.spin_y[0, :]"
   ]
  },
  {
   "cell_type": "markdown",
   "id": "731b2a73-5cf0-4045-bdb8-3b95159bdbaa",
   "metadata": {},
   "source": [
    "### Plot spin vs excitation frequency"
   ]
  },
  {
   "cell_type": "code",
   "execution_count": null,
   "id": "45bf243b-cdea-465f-8152-959ea568505d",
   "metadata": {},
   "outputs": [],
   "source": [
    "# Generate freq axes for the three scans\n",
    "q_scan_1 = np.linspace(q0_scan_1, q0_scan_1+kicker.q_span, int(kicker.num_turns))\n",
    "q_scan_2 = np.linspace(q0_scan_2, q0_scan_2+kicker.q_span, int(kicker.num_turns))\n",
    "q_scan_3 = np.linspace(q0_scan_3, q0_scan_3+kicker.q_span, int(kicker.num_turns))\n",
    "\n",
    "# Plot\n",
    "plt.figure()\n",
    "plt.plot(q_scan_1, spin_y_scan1)\n",
    "plt.plot(q_scan_2, spin_y_scan2)\n",
    "plt.plot(q_scan_3, spin_y_scan3)\n",
    "plt.ylabel('Spin y')\n",
    "l = plt.xlabel(r'$f_\\text{excit} / f_\\text{rev}$')"
   ]
  },
  {
   "cell_type": "code",
   "execution_count": null,
   "id": "2be27cce-94be-4408-b359-f078119fea72",
   "metadata": {},
   "outputs": [],
   "source": []
  }
 ],
 "metadata": {
  "kernelspec": {
   "display_name": "Python 3 (ipykernel)",
   "language": "python",
   "name": "python3"
  },
  "language_info": {
   "codemirror_mode": {
    "name": "ipython",
    "version": 3
   },
   "file_extension": ".py",
   "mimetype": "text/x-python",
   "name": "python",
   "nbconvert_exporter": "python",
   "pygments_lexer": "ipython3",
   "version": "3.11.11"
  }
 },
 "nbformat": 4,
 "nbformat_minor": 5
}

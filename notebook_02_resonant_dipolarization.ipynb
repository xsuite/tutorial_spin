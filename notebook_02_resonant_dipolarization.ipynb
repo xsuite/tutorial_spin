{
 "cells": [
  {
   "cell_type": "markdown",
   "id": "a86d80ee-f94e-42f2-831c-06f544a46e8c",
   "metadata": {},
   "source": [
    "# Resonant depolarization"
   ]
  },
  {
   "cell_type": "code",
   "execution_count": 1,
   "id": "6ad8e8c0-13df-4c29-a89a-fd9577feffda",
   "metadata": {},
   "outputs": [],
   "source": [
    "%matplotlib widget"
   ]
  },
  {
   "cell_type": "code",
   "execution_count": 2,
   "id": "1651fb15-bcb4-46b5-99d0-a24101f9f29e",
   "metadata": {},
   "outputs": [],
   "source": [
    "import xtrack as xt\n",
    "import xpart as xp\n",
    "import xobjects as xo\n",
    "import numpy as np\n",
    "import matplotlib.pyplot as plt"
   ]
  },
  {
   "cell_type": "markdown",
   "id": "d6379fac-771c-4704-b4b4-cd4301434788",
   "metadata": {},
   "source": [
    "### Load and configure ring model"
   ]
  },
  {
   "cell_type": "code",
   "execution_count": 3,
   "id": "439024e2-c971-493a-b365-7ab0aac14f79",
   "metadata": {},
   "outputs": [
    {
     "data": {
      "application/vnd.jupyter.widget-view+json": {
       "model_id": "d4faa48038fc4428b6a9c8306212ba4c",
       "version_major": 2,
       "version_minor": 0
      },
      "text/plain": [
       "Loading line from dict:   0%|          | 0/9667 [00:00<?, ?it/s]"
      ]
     },
     "metadata": {},
     "output_type": "display_data"
    },
    {
     "name": "stdout",
     "output_type": "stream",
     "text": [
      "Done loading line from dict.           \n"
     ]
    }
   ],
   "source": [
    "line = xt.Line.from_json('lattice/lep_sol.json')\n",
    "line.particle_ref.anomalous_magnetic_moment=0.00115965218128\n",
    "line.particle_ref.gamma0 = 89207.78287659843 # to have a spin tune of 103.45\n",
    "spin_tune = line.particle_ref.anomalous_magnetic_moment[0]*line.particle_ref.gamma0[0]"
   ]
  },
  {
   "cell_type": "code",
   "execution_count": 4,
   "id": "c229bf96-b72b-428a-bc89-ebfb3a01b2d5",
   "metadata": {},
   "outputs": [],
   "source": [
    "# RF\n",
    "line['vrfc231'] = 12.65  # qs=0.6 with radiation"
   ]
  },
  {
   "cell_type": "code",
   "execution_count": 5,
   "id": "16865bba-68ae-47a1-8d50-62f4ef4f3911",
   "metadata": {},
   "outputs": [
    {
     "name": "stdout",
     "output_type": "stream",
     "text": [
      "                                             \n",
      "Optimize - start penalty: 2.635                             \n",
      "Matching: model call n. 9 penalty = 4.9258e-05              \n",
      "Optimize - end penalty:  4.92578e-05                            \n"
     ]
    },
    {
     "data": {
      "text/plain": [
       "<xtrack.match.OptimizeLine at 0x3073e5550>"
      ]
     },
     "execution_count": 5,
     "metadata": {},
     "output_type": "execute_result"
    }
   ],
   "source": [
    "# Match tunes to those used during polarization measurements\n",
    "# https://cds.cern.ch/record/282605\n",
    "opt = line.match(\n",
    "    method='4d',\n",
    "    solve=False,\n",
    "    vary=xt.VaryList(['kqf', 'kqd'], step=1e-4),\n",
    "    targets=xt.TargetSet(qx=65.10, qy=71.20, tol=1e-4)\n",
    ")\n",
    "opt.solve()"
   ]
  },
  {
   "cell_type": "markdown",
   "id": "9f278bb7-fe44-44ee-bd5b-1598a0f4d714",
   "metadata": {},
   "source": [
    "### No solenoid, no spin bumps"
   ]
  },
  {
   "cell_type": "code",
   "execution_count": 6,
   "id": "59b40fea-6b36-4ec1-8390-58d630f49337",
   "metadata": {},
   "outputs": [],
   "source": [
    "line['on_solenoids'] = 0\n",
    "line['on_spin_bumps'] = 0\n",
    "line['on_coupling_corrections'] = 0"
   ]
  },
  {
   "cell_type": "code",
   "execution_count": 7,
   "id": "1b2991f1-804a-4b3d-88dd-742f00f92182",
   "metadata": {},
   "outputs": [],
   "source": [
    "tw = line.twiss(spin=True)"
   ]
  },
  {
   "cell_type": "code",
   "execution_count": 8,
   "id": "7b0e454d-e404-4dc7-93bd-77ad9ff30a03",
   "metadata": {},
   "outputs": [
    {
     "data": {
      "application/vnd.jupyter.widget-view+json": {
       "model_id": "1e764abe284f40a290cd8e9a2fcadbf2",
       "version_major": 2,
       "version_minor": 0
      },
      "text/plain": [
       "Slicing line:   0%|          | 0/9550 [00:00<?, ?it/s]"
      ]
     },
     "metadata": {},
     "output_type": "display_data"
    }
   ],
   "source": [
    "from chirp_kicker import VerticalChirpKicker\n",
    "kicker = VerticalChirpKicker(\n",
    "    k0sl=5e-6, # peak value\n",
    "    q_start=0.44,\n",
    "    q_span=0.003,\n",
    "    num_turns=15000, # Duration of the scan\n",
    ")\n",
    "line.insert('spin_kicker', obj=kicker, at='bfkv1.qs18.r2@start')"
   ]
  },
  {
   "cell_type": "code",
   "execution_count": 9,
   "id": "21290e80-6a25-43e5-9152-79bfbde8b1de",
   "metadata": {},
   "outputs": [],
   "source": [
    "line.configure_spin('auto')"
   ]
  },
  {
   "cell_type": "code",
   "execution_count": null,
   "id": "cfc00714-5ec1-49d6-aeae-28b362a3f78f",
   "metadata": {},
   "outputs": [
    {
     "data": {
      "application/vnd.jupyter.widget-view+json": {
       "model_id": "1c26de1b4da34fc38440121f2fe231b8",
       "version_major": 2,
       "version_minor": 0
      },
      "text/plain": [
       "Tracking:   0%|          | 0/15000 [00:00<?, ?it/s]"
      ]
     },
     "metadata": {},
     "output_type": "display_data"
    }
   ],
   "source": [
    "q_start_tests = [0.44, 0.448, 0.453]\n",
    "\n",
    "f_list = []\n",
    "spin_list = []\n",
    "\n",
    "for iii, qqq in enumerate(q_start_tests):\n",
    "    q_start_excitation = qqq\n",
    "\n",
    "    kicker.q_start = q_start_excitation\n",
    "    p = tw.particle_on_co.copy()\n",
    "\n",
    "    line.track(p, num_turns=15000, turn_by_turn_monitor=True,\n",
    "            with_progress=1000)\n",
    "    mon = line.record_last_track\n",
    "\n",
    "    freq_axis = np.linspace(q_start_excitation, q_start_excitation+kicker.q_span, int(kicker.num_turns))\n",
    "    f_list.append(freq_axis)\n",
    "    spin_list.append(mon.spin_y[0, :])\n"
   ]
  },
  {
   "cell_type": "code",
   "execution_count": null,
   "id": "c9baac9f-a7cd-4cce-9342-e001af40604a",
   "metadata": {},
   "outputs": [],
   "source": [
    "plt.figure()\n",
    "plt.plot(f_list[0], spin_list[0])\n",
    "plt.plot(f_list[1], spin_list[1])\n",
    "plt.plot(f_list[2], spin_list[2])"
   ]
  },
  {
   "cell_type": "code",
   "execution_count": null,
   "id": "2be27cce-94be-4408-b359-f078119fea72",
   "metadata": {},
   "outputs": [],
   "source": []
  }
 ],
 "metadata": {
  "kernelspec": {
   "display_name": "Python 3 (ipykernel)",
   "language": "python",
   "name": "python3"
  },
  "language_info": {
   "codemirror_mode": {
    "name": "ipython",
    "version": 3
   },
   "file_extension": ".py",
   "mimetype": "text/x-python",
   "name": "python",
   "nbconvert_exporter": "python",
   "pygments_lexer": "ipython3",
   "version": "3.11.11"
  }
 },
 "nbformat": 4,
 "nbformat_minor": 5
}

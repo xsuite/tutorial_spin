{
 "cells": [
  {
   "cell_type": "markdown",
   "id": "a86d80ee-f94e-42f2-831c-06f544a46e8c",
   "metadata": {},
   "source": [
    "# Resonant depolarization"
   ]
  },
  {
   "cell_type": "code",
   "execution_count": 1,
   "id": "6ad8e8c0-13df-4c29-a89a-fd9577feffda",
   "metadata": {},
   "outputs": [],
   "source": [
    "%matplotlib widget"
   ]
  },
  {
   "cell_type": "code",
   "execution_count": 2,
   "id": "1651fb15-bcb4-46b5-99d0-a24101f9f29e",
   "metadata": {},
   "outputs": [],
   "source": [
    "import xtrack as xt\n",
    "import xpart as xp\n",
    "import xobjects as xo\n",
    "import numpy as np\n",
    "import matplotlib.pyplot as plt"
   ]
  },
  {
   "cell_type": "markdown",
   "id": "d6379fac-771c-4704-b4b4-cd4301434788",
   "metadata": {},
   "source": [
    "### Load and configure ring model"
   ]
  },
  {
   "cell_type": "code",
   "execution_count": 3,
   "id": "439024e2-c971-493a-b365-7ab0aac14f79",
   "metadata": {},
   "outputs": [
    {
     "data": {
      "application/vnd.jupyter.widget-view+json": {
       "model_id": "7e901b3b9353439b8a8ac5885d1f03be",
       "version_major": 2,
       "version_minor": 0
      },
      "text/plain": [
       "Loading line from dict:   0%|          | 0/9667 [00:00<?, ?it/s]"
      ]
     },
     "metadata": {},
     "output_type": "display_data"
    },
    {
     "name": "stdout",
     "output_type": "stream",
     "text": [
      "Done loading line from dict.           \n"
     ]
    }
   ],
   "source": [
    "line = xt.Line.from_json('lattice/lep_sol.json')\n",
    "line.particle_ref.anomalous_magnetic_moment=0.00115965218128\n",
    "line.particle_ref.gamma0 = 89207.78287659843 # to have a spin tune of 103.45\n",
    "spin_tune = line.particle_ref.anomalous_magnetic_moment[0]*line.particle_ref.gamma0[0]"
   ]
  },
  {
   "cell_type": "code",
   "execution_count": 4,
   "id": "c229bf96-b72b-428a-bc89-ebfb3a01b2d5",
   "metadata": {},
   "outputs": [],
   "source": [
    "# RF ON\n",
    "line['vrfc231'] = 12.65  # qs=0.6 with radiation\n",
    "\n",
    "# Solenoids and spin bumps off\n",
    "line['on_solenoids'] = 0\n",
    "line['on_spin_bumps'] = 0\n",
    "line['on_coupling_corrections'] = 0"
   ]
  },
  {
   "cell_type": "code",
   "execution_count": 5,
   "id": "16865bba-68ae-47a1-8d50-62f4ef4f3911",
   "metadata": {},
   "outputs": [
    {
     "name": "stdout",
     "output_type": "stream",
     "text": [
      "                                             \n",
      "Optimize - start penalty: 2.606                             \n",
      "Matching: model call n. 9 penalty = 3.9777e-05              \n",
      "Optimize - end penalty:  3.97769e-05                            \n"
     ]
    },
    {
     "data": {
      "text/plain": [
       "<xtrack.match.OptimizeLine at 0x1769b2510>"
      ]
     },
     "execution_count": 5,
     "metadata": {},
     "output_type": "execute_result"
    }
   ],
   "source": [
    "# Match tunes to those used during polarization measurements\n",
    "# https://cds.cern.ch/record/282605\n",
    "opt = line.match(\n",
    "    method='4d',\n",
    "    solve=False,\n",
    "    vary=xt.VaryList(['kqf', 'kqd'], step=1e-4),\n",
    "    targets=xt.TargetSet(qx=65.10, qy=71.20, tol=1e-4)\n",
    ")\n",
    "opt.solve()"
   ]
  },
  {
   "cell_type": "markdown",
   "id": "2b885287-a0ca-4dfc-91e1-7d1008a2ca10",
   "metadata": {},
   "source": [
    "### Twiss to get $n_0$"
   ]
  },
  {
   "cell_type": "code",
   "execution_count": 6,
   "id": "1b2991f1-804a-4b3d-88dd-742f00f92182",
   "metadata": {},
   "outputs": [],
   "source": [
    "tw = line.twiss(spin=True)"
   ]
  },
  {
   "cell_type": "markdown",
   "id": "6ac55874-54e6-41e8-9300-393a599f1866",
   "metadata": {},
   "source": [
    "### Install a kicker to have a sinusoidal excitation with changing frequency"
   ]
  },
  {
   "cell_type": "code",
   "execution_count": 7,
   "id": "7b0e454d-e404-4dc7-93bd-77ad9ff30a03",
   "metadata": {},
   "outputs": [
    {
     "data": {
      "application/vnd.jupyter.widget-view+json": {
       "model_id": "83d169ebf69c4eb8baa3b889e7de66ff",
       "version_major": 2,
       "version_minor": 0
      },
      "text/plain": [
       "Slicing line:   0%|          | 0/9550 [00:00<?, ?it/s]"
      ]
     },
     "metadata": {},
     "output_type": "display_data"
    }
   ],
   "source": [
    "from chirp_kicker import VerticalChirpKicker\n",
    "kicker = VerticalChirpKicker(\n",
    "    k0sl=5e-6, # peak value\n",
    "    q_start=0.44,\n",
    "    q_span=0.003,\n",
    "    num_turns=15000, # Duration of the scan\n",
    ")\n",
    "line.insert('spin_kicker', obj=kicker, at='bfkv1.qs18.r2@start')"
   ]
  },
  {
   "cell_type": "markdown",
   "id": "f8da13d3-15f2-460e-b747-3976c957a4c6",
   "metadata": {},
   "source": [
    " ### Three scans in different spin-tune ranges"
   ]
  },
  {
   "cell_type": "code",
   "execution_count": 8,
   "id": "88c1d35b-48fa-49b3-84a9-abf924a65ce7",
   "metadata": {},
   "outputs": [
    {
     "name": "stdout",
     "output_type": "stream",
     "text": [
      "Compiling ContextCpu kernels...\n",
      "Done compiling ContextCpu kernels.\n"
     ]
    },
    {
     "data": {
      "application/vnd.jupyter.widget-view+json": {
       "model_id": "b6fa214a821445a68eabd2ad1dad073b",
       "version_major": 2,
       "version_minor": 0
      },
      "text/plain": [
       "Tracking:   0%|          | 0/15000 [00:00<?, ?it/s]"
      ]
     },
     "metadata": {},
     "output_type": "display_data"
    },
    {
     "data": {
      "application/vnd.jupyter.widget-view+json": {
       "model_id": "9c8f88e057344f3d93c9c654de3d9bca",
       "version_major": 2,
       "version_minor": 0
      },
      "text/plain": [
       "Tracking:   0%|          | 0/15000 [00:00<?, ?it/s]"
      ]
     },
     "metadata": {},
     "output_type": "display_data"
    },
    {
     "data": {
      "application/vnd.jupyter.widget-view+json": {
       "model_id": "310bb155c2fc4fd3910b44e55c7a219b",
       "version_major": 2,
       "version_minor": 0
      },
      "text/plain": [
       "Tracking:   0%|          | 0/15000 [00:00<?, ?it/s]"
      ]
     },
     "metadata": {},
     "output_type": "display_data"
    }
   ],
   "source": [
    "# enable spin tracking\n",
    "line.configure_spin('auto')\n",
    "\n",
    "# Scan in the range (0.44, 0.443)\n",
    "q0_scan_1 = 0.44\n",
    "kicker.q_start = q0_scan_1\n",
    "p = tw.particle_on_co.copy()\n",
    "line.track(p, num_turns=15000, turn_by_turn_monitor=True, with_progress=1000)\n",
    "spin_y_scan1 = line.record_last_track.spin_y[0, :]\n",
    "\n",
    "# Scan in the range (0.448, 0.451)\n",
    "q0_scan_2 = 0.448\n",
    "kicker.q_start = q0_scan_2\n",
    "p = tw.particle_on_co.copy()\n",
    "line.track(p, num_turns=15000, turn_by_turn_monitor=True, with_progress=1000)\n",
    "spin_y_scan2 = line.record_last_track.spin_y[0, :]\n",
    "\n",
    "# Scan in the range (0.453, 0.456)\n",
    "q0_scan_3 = 0.453\n",
    "kicker.q_start = q0_scan_3\n",
    "p = tw.particle_on_co.copy()\n",
    "line.track(p, num_turns=15000, turn_by_turn_monitor=True, with_progress=1000)\n",
    "spin_y_scan3 = line.record_last_track.spin_y[0, :]"
   ]
  },
  {
   "cell_type": "markdown",
   "id": "731b2a73-5cf0-4045-bdb8-3b95159bdbaa",
   "metadata": {},
   "source": [
    "### Plot spin vs excitation frequency"
   ]
  },
  {
   "cell_type": "code",
   "execution_count": 9,
   "id": "45bf243b-cdea-465f-8152-959ea568505d",
   "metadata": {},
   "outputs": [
    {
     "data": {
      "application/vnd.jupyter.widget-view+json": {
       "model_id": "3448c0d20e524f7d8a1967ec8b09a981",
       "version_major": 2,
       "version_minor": 0
      },
      "image/png": "[encoded data removed]",
      "text/html": [
       "\n",
       "            <div style=\"display: inline-block;\">\n",
       "                <div class=\"jupyter-widgets widget-label\" style=\"text-align: center;\">\n",
       "                    Figure\n",
       "                </div>\n",
       "                <img src='data:image/png;base64,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' width=640.0/>\n",
       "            </div>\n",
       "        "
      ],
      "text/plain": [
       "Canvas(toolbar=Toolbar(toolitems=[('Home', 'Reset original view', 'home', 'home'), ('Back', 'Back to previous …"
      ]
     },
     "metadata": {},
     "output_type": "display_data"
    }
   ],
   "source": [
    "# Generate freq axes for the three scans\n",
    "q_scan_1 = np.linspace(q0_scan_1, q0_scan_1+kicker.q_span, int(kicker.num_turns))\n",
    "q_scan_2 = np.linspace(q0_scan_2, q0_scan_2+kicker.q_span, int(kicker.num_turns))\n",
    "q_scan_3 = np.linspace(q0_scan_3, q0_scan_3+kicker.q_span, int(kicker.num_turns))\n",
    "\n",
    "# Plot\n",
    "plt.figure()\n",
    "plt.plot(q_scan_1, spin_y_scan1)\n",
    "plt.plot(q_scan_2, spin_y_scan2)\n",
    "plt.plot(q_scan_3, spin_y_scan3)\n",
    "plt.ylabel('Spin y')\n",
    "l = plt.xlabel(r'$f_\\text{excit} / f_\\text{rev}$')"
   ]
  },
  {
   "cell_type": "code",
   "execution_count": null,
   "id": "2be27cce-94be-4408-b359-f078119fea72",
   "metadata": {},
   "outputs": [],
   "source": []
  }
 ],
 "metadata": {
  "kernelspec": {
   "display_name": "Python 3 (ipykernel)",
   "language": "python",
   "name": "python3"
  },
  "language_info": {
   "codemirror_mode": {
    "name": "ipython",
    "version": 3
   },
   "file_extension": ".py",
   "mimetype": "text/x-python",
   "name": "python",
   "nbconvert_exporter": "python",
   "pygments_lexer": "ipython3",
   "version": "3.11.11"
  }
 },
 "nbformat": 4,
 "nbformat_minor": 5
}

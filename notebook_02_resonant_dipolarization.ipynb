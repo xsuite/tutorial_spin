{
 "cells": [
  {
   "cell_type": "markdown",
   "id": "a86d80ee-f94e-42f2-831c-06f544a46e8c",
   "metadata": {},
   "source": [
    "# Resonant depolarization"
   ]
  },
  {
   "cell_type": "code",
   "execution_count": 1,
   "id": "6ad8e8c0-13df-4c29-a89a-fd9577feffda",
   "metadata": {},
   "outputs": [],
   "source": [
    "%matplotlib widget"
   ]
  },
  {
   "cell_type": "code",
   "execution_count": 2,
   "id": "1651fb15-bcb4-46b5-99d0-a24101f9f29e",
   "metadata": {},
   "outputs": [],
   "source": [
    "import xtrack as xt\n",
    "import xpart as xp\n",
    "import xobjects as xo\n",
    "import numpy as np\n",
    "import matplotlib.pyplot as plt"
   ]
  },
  {
   "cell_type": "markdown",
   "id": "d6379fac-771c-4704-b4b4-cd4301434788",
   "metadata": {},
   "source": [
    "### Load and configure ring model"
   ]
  },
  {
   "cell_type": "code",
   "execution_count": 3,
   "id": "439024e2-c971-493a-b365-7ab0aac14f79",
   "metadata": {},
   "outputs": [
    {
     "data": {
      "application/vnd.jupyter.widget-view+json": {
       "model_id": "3656646855114557bc7e2f1a894d3017",
       "version_major": 2,
       "version_minor": 0
      },
      "text/plain": [
       "Loading line from dict:   0%|          | 0/9667 [00:00<?, ?it/s]"
      ]
     },
     "metadata": {},
     "output_type": "display_data"
    },
    {
     "name": "stdout",
     "output_type": "stream",
     "text": [
      "Done loading line from dict.           \n"
     ]
    }
   ],
   "source": [
    "line = xt.Line.from_json('lattice/lep_sol.json')\n",
    "line.particle_ref.anomalous_magnetic_moment=0.00115965218128\n",
    "line.particle_ref.gamma0 = 89207.78287659843 # to have a spin tune of 103.45\n",
    "spin_tune = line.particle_ref.anomalous_magnetic_moment[0]*line.particle_ref.gamma0[0]"
   ]
  },
  {
   "cell_type": "code",
   "execution_count": 4,
   "id": "c229bf96-b72b-428a-bc89-ebfb3a01b2d5",
   "metadata": {},
   "outputs": [],
   "source": [
    "# RF ON\n",
    "line['vrfc231'] = 12.65  # qs=0.6 with radiation\n",
    "\n",
    "# Solenoids and spin bumps off\n",
    "line['on_solenoids'] = 0\n",
    "line['on_spin_bumps'] = 0\n",
    "line['on_coupling_corrections'] = 0"
   ]
  },
  {
   "cell_type": "code",
   "execution_count": 5,
   "id": "16865bba-68ae-47a1-8d50-62f4ef4f3911",
   "metadata": {},
   "outputs": [
    {
     "name": "stdout",
     "output_type": "stream",
     "text": [
      "Compiling ContextCpu kernels...\n",
      "Done compiling ContextCpu kernels.\n",
      "Compiling ContextCpu kernels...\n",
      "Done compiling ContextCpu kernels.\n",
      "                                             \n",
      "Optimize - start penalty: 2.606                             \n",
      "Matching: model call n. 9 penalty = 3.9777e-05              \n",
      "Optimize - end penalty:  3.97769e-05                            \n"
     ]
    },
    {
     "data": {
      "text/plain": [
       "<xtrack.match.OptimizeLine at 0x139d37610>"
      ]
     },
     "execution_count": 5,
     "metadata": {},
     "output_type": "execute_result"
    }
   ],
   "source": [
    "# Match tunes to those used during polarization measurements\n",
    "# https://cds.cern.ch/record/282605\n",
    "opt = line.match(\n",
    "    method='4d',\n",
    "    solve=False,\n",
    "    vary=xt.VaryList(['kqf', 'kqd'], step=1e-4),\n",
    "    targets=xt.TargetSet(qx=65.10, qy=71.20, tol=1e-4)\n",
    ")\n",
    "opt.solve()"
   ]
  },
  {
   "cell_type": "markdown",
   "id": "2b885287-a0ca-4dfc-91e1-7d1008a2ca10",
   "metadata": {},
   "source": [
    "### Twiss to get $n_0$"
   ]
  },
  {
   "cell_type": "code",
   "execution_count": 6,
   "id": "1b2991f1-804a-4b3d-88dd-742f00f92182",
   "metadata": {},
   "outputs": [
    {
     "name": "stdout",
     "output_type": "stream",
     "text": [
      "Compiling ContextCpu kernels...\n",
      "Done compiling ContextCpu kernels.\n"
     ]
    }
   ],
   "source": [
    "tw = line.twiss(spin=True)"
   ]
  },
  {
   "cell_type": "markdown",
   "id": "6ac55874-54e6-41e8-9300-393a599f1866",
   "metadata": {},
   "source": [
    "### Install a kicker to have a sinusoidal excitation with changing frequency"
   ]
  },
  {
   "cell_type": "code",
   "execution_count": 7,
   "id": "7b0e454d-e404-4dc7-93bd-77ad9ff30a03",
   "metadata": {},
   "outputs": [
    {
     "data": {
      "application/vnd.jupyter.widget-view+json": {
       "model_id": "e7ed9356055e4bb5860dae152d1b0421",
       "version_major": 2,
       "version_minor": 0
      },
      "text/plain": [
       "Slicing line:   0%|          | 0/9550 [00:00<?, ?it/s]"
      ]
     },
     "metadata": {},
     "output_type": "display_data"
    }
   ],
   "source": [
    "from chirp_kicker import VerticalChirpKicker\n",
    "kicker = VerticalChirpKicker(\n",
    "    length=1.6, \n",
    "    k0sl=5e-6, # peak value\n",
    "    q_start=0.44,\n",
    "    q_span=0.003,\n",
    "    num_turns=15000, # Duration of the scan\n",
    ")\n",
    "line.insert('spin_kicker', obj=kicker, at='bfkv1.qs18.r2@start')"
   ]
  },
  {
   "cell_type": "markdown",
   "id": "f8da13d3-15f2-460e-b747-3976c957a4c6",
   "metadata": {},
   "source": [
    " ### Three scans in different spin-tune ranges"
   ]
  },
  {
   "cell_type": "code",
   "execution_count": 8,
   "id": "88c1d35b-48fa-49b3-84a9-abf924a65ce7",
   "metadata": {},
   "outputs": [
    {
     "name": "stdout",
     "output_type": "stream",
     "text": [
      "Compiling ContextCpu kernels...\n",
      "Done compiling ContextCpu kernels.\n"
     ]
    },
    {
     "data": {
      "application/vnd.jupyter.widget-view+json": {
       "model_id": "59cb033b7fd8408bb8cc8bc2ab06197e",
       "version_major": 2,
       "version_minor": 0
      },
      "text/plain": [
       "Tracking:   0%|          | 0/15000 [00:00<?, ?it/s]"
      ]
     },
     "metadata": {},
     "output_type": "display_data"
    },
    {
     "data": {
      "application/vnd.jupyter.widget-view+json": {
       "model_id": "835f2b3ae2124b5f87fb1622b4223fba",
       "version_major": 2,
       "version_minor": 0
      },
      "text/plain": [
       "Tracking:   0%|          | 0/15000 [00:00<?, ?it/s]"
      ]
     },
     "metadata": {},
     "output_type": "display_data"
    },
    {
     "data": {
      "application/vnd.jupyter.widget-view+json": {
       "model_id": "50461cfdac364b3ab5f3464faa4ece8f",
       "version_major": 2,
       "version_minor": 0
      },
      "text/plain": [
       "Tracking:   0%|          | 0/15000 [00:00<?, ?it/s]"
      ]
     },
     "metadata": {},
     "output_type": "display_data"
    }
   ],
   "source": [
    "# enable spin tracking\n",
    "line.configure_spin('auto')\n",
    "\n",
    "# Scan in the range (0.44, 0.443)\n",
    "q0_scan_1 = 0.44\n",
    "kicker.q_start = q0_scan_1\n",
    "p = tw.particle_on_co.copy()\n",
    "line.track(p, num_turns=15000, turn_by_turn_monitor=True, with_progress=1000)\n",
    "spin_y_scan1 = line.record_last_track.spin_y[0, :]\n",
    "\n",
    "# Scan in the range (0.448, 0.451)\n",
    "q0_scan_2 = 0.448\n",
    "kicker.q_start = q0_scan_2\n",
    "p = tw.particle_on_co.copy()\n",
    "line.track(p, num_turns=15000, turn_by_turn_monitor=True, with_progress=1000)\n",
    "spin_y_scan2 = line.record_last_track.spin_y[0, :]\n",
    "\n",
    "# Scan in the range (0.453, 0.456)\n",
    "q0_scan_3 = 0.453\n",
    "kicker.q_start = q0_scan_3\n",
    "p = tw.particle_on_co.copy()\n",
    "line.track(p, num_turns=15000, turn_by_turn_monitor=True, with_progress=1000)\n",
    "spin_y_scan3 = line.record_last_track.spin_y[0, :]"
   ]
  },
  {
   "cell_type": "markdown",
   "id": "731b2a73-5cf0-4045-bdb8-3b95159bdbaa",
   "metadata": {},
   "source": [
    "### Plot spin vs excitation frequency"
   ]
  },
  {
   "cell_type": "code",
   "execution_count": 9,
   "id": "45bf243b-cdea-465f-8152-959ea568505d",
   "metadata": {},
   "outputs": [
    {
     "data": {
      "application/vnd.jupyter.widget-view+json": {
       "model_id": "17e44fbb353847ca9ea72d95a08349ca",
       "version_major": 2,
       "version_minor": 0
      },
      "image/png": "[encoded data removed]",
      "text/html": [
       "\n",
       "            <div style=\"display: inline-block;\">\n",
       "                <div class=\"jupyter-widgets widget-label\" style=\"text-align: center;\">\n",
       "                    Figure\n",
       "                </div>\n",
       "                <img src='data:image/png;base64,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' width=640.0/>\n",
       "            </div>\n",
       "        "
      ],
      "text/plain": [
       "Canvas(toolbar=Toolbar(toolitems=[('Home', 'Reset original view', 'home', 'home'), ('Back', 'Back to previous …"
      ]
     },
     "metadata": {},
     "output_type": "display_data"
    }
   ],
   "source": [
    "# Generate freq axes for the three scans\n",
    "q_scan_1 = np.linspace(q0_scan_1, q0_scan_1+kicker.q_span, int(kicker.num_turns))\n",
    "q_scan_2 = np.linspace(q0_scan_2, q0_scan_2+kicker.q_span, int(kicker.num_turns))\n",
    "q_scan_3 = np.linspace(q0_scan_3, q0_scan_3+kicker.q_span, int(kicker.num_turns))\n",
    "\n",
    "# Plot\n",
    "plt.figure()\n",
    "plt.plot(q_scan_1, spin_y_scan1)\n",
    "plt.plot(q_scan_2, spin_y_scan2)\n",
    "plt.plot(q_scan_3, spin_y_scan3)\n",
    "plt.ylabel('Spin y')\n",
    "l = plt.xlabel(r'$f_\\text{excit} / f_\\text{rev}$')"
   ]
  },
  {
   "cell_type": "code",
   "execution_count": null,
   "id": "2be27cce-94be-4408-b359-f078119fea72",
   "metadata": {},
   "outputs": [],
   "source": []
  }
 ],
 "metadata": {
  "kernelspec": {
   "display_name": "Python 3 (ipykernel)",
   "language": "python",
   "name": "python3"
  },
  "language_info": {
   "codemirror_mode": {
    "name": "ipython",
    "version": 3
   },
   "file_extension": ".py",
   "mimetype": "text/x-python",
   "name": "python",
   "nbconvert_exporter": "python",
   "pygments_lexer": "ipython3",
   "version": "3.11.11"
  }
 },
 "nbformat": 4,
 "nbformat_minor": 5
}

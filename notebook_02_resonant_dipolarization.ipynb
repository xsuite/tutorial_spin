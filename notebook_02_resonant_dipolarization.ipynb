{
 "cells": [
  {
   "cell_type": "markdown",
   "id": "a86d80ee-f94e-42f2-831c-06f544a46e8c",
   "metadata": {},
   "source": [
    "# Resonant depolarization"
   ]
  },
  {
   "cell_type": "code",
   "execution_count": 1,
   "id": "6ad8e8c0-13df-4c29-a89a-fd9577feffda",
   "metadata": {},
   "outputs": [],
   "source": [
    "%matplotlib widget"
   ]
  },
  {
   "cell_type": "code",
   "execution_count": 2,
   "id": "1651fb15-bcb4-46b5-99d0-a24101f9f29e",
   "metadata": {},
   "outputs": [],
   "source": [
    "import xtrack as xt\n",
    "import xpart as xp\n",
    "import xobjects as xo\n",
    "import numpy as np\n",
    "import matplotlib.pyplot as plt"
   ]
  },
  {
   "cell_type": "markdown",
   "id": "d6379fac-771c-4704-b4b4-cd4301434788",
   "metadata": {},
   "source": [
    "### Load and configure ring model"
   ]
  },
  {
   "cell_type": "code",
   "execution_count": 3,
   "id": "439024e2-c971-493a-b365-7ab0aac14f79",
   "metadata": {},
   "outputs": [
    {
     "data": {
      "application/vnd.jupyter.widget-view+json": {
       "model_id": "6c8a1d98dbb440a3a8ad90906072ec4e",
       "version_major": 2,
       "version_minor": 0
      },
      "text/plain": [
       "Loading line from dict:   0%|          | 0/9667 [00:00<?, ?it/s]"
      ]
     },
     "metadata": {},
     "output_type": "display_data"
    },
    {
     "name": "stdout",
     "output_type": "stream",
     "text": [
      "Done loading line from dict.           \n"
     ]
    }
   ],
   "source": [
    "line = xt.Line.from_json('lattice/lep_sol.json')\n",
    "line.particle_ref.anomalous_magnetic_moment=0.00115965218128\n",
    "line.particle_ref.gamma0 = 89207.78287659843 # to have a spin tune of 103.45\n",
    "spin_tune = line.particle_ref.anomalous_magnetic_moment[0]*line.particle_ref.gamma0[0]"
   ]
  },
  {
   "cell_type": "code",
   "execution_count": 4,
   "id": "c229bf96-b72b-428a-bc89-ebfb3a01b2d5",
   "metadata": {},
   "outputs": [],
   "source": [
    "# RF ON\n",
    "line['vrfc231'] = 12.65  # qs=0.6 with radiation\n",
    "\n",
    "# Solenoids and spin bumps off\n",
    "line['on_solenoids'] = 0\n",
    "line['on_spin_bumps'] = 0\n",
    "line['on_coupling_corrections'] = 0"
   ]
  },
  {
   "cell_type": "code",
   "execution_count": 5,
   "id": "16865bba-68ae-47a1-8d50-62f4ef4f3911",
   "metadata": {},
   "outputs": [
    {
     "name": "stdout",
     "output_type": "stream",
     "text": [
      "                                             \n",
      "Optimize - start penalty: 2.606                             \n",
      "Matching: model call n. 9 penalty = 3.9777e-05              \n",
      "Optimize - end penalty:  3.97769e-05                            \n"
     ]
    },
    {
     "data": {
      "text/plain": [
       "<xtrack.match.OptimizeLine at 0x17e450610>"
      ]
     },
     "execution_count": 5,
     "metadata": {},
     "output_type": "execute_result"
    }
   ],
   "source": [
    "# Match tunes to those used during polarization measurements\n",
    "# https://cds.cern.ch/record/282605\n",
    "opt = line.match(\n",
    "    method='4d',\n",
    "    solve=False,\n",
    "    vary=xt.VaryList(['kqf', 'kqd'], step=1e-4),\n",
    "    targets=xt.TargetSet(qx=65.10, qy=71.20, tol=1e-4)\n",
    ")\n",
    "opt.solve()"
   ]
  },
  {
   "cell_type": "markdown",
   "id": "2b885287-a0ca-4dfc-91e1-7d1008a2ca10",
   "metadata": {},
   "source": [
    "### Twiss to get $n_0$"
   ]
  },
  {
   "cell_type": "code",
   "execution_count": 6,
   "id": "1b2991f1-804a-4b3d-88dd-742f00f92182",
   "metadata": {},
   "outputs": [],
   "source": [
    "tw = line.twiss(spin=True)"
   ]
  },
  {
   "cell_type": "markdown",
   "id": "6ac55874-54e6-41e8-9300-393a599f1866",
   "metadata": {},
   "source": [
    "### Install a kicker to have a sinusoidal excitation with changing frequency"
   ]
  },
  {
   "cell_type": "code",
   "execution_count": 7,
   "id": "7b0e454d-e404-4dc7-93bd-77ad9ff30a03",
   "metadata": {},
   "outputs": [
    {
     "data": {
      "application/vnd.jupyter.widget-view+json": {
       "model_id": "7ca05a27666742a494556f9ca9385985",
       "version_major": 2,
       "version_minor": 0
      },
      "text/plain": [
       "Slicing line:   0%|          | 0/9550 [00:00<?, ?it/s]"
      ]
     },
     "metadata": {},
     "output_type": "display_data"
    }
   ],
   "source": [
    "from chirp_kicker import VerticalChirpKicker\n",
    "kicker = VerticalChirpKicker(\n",
    "    length=1.6, \n",
    "    k0sl=5e-6, # peak value\n",
    "    q_start=0.44,\n",
    "    q_span=0.003,\n",
    "    num_turns=15000, # Duration of the scan\n",
    ")\n",
    "line.insert('spin_kicker', obj=kicker, at='bfkv1.qs18.r2@start')"
   ]
  },
  {
   "cell_type": "markdown",
   "id": "f8da13d3-15f2-460e-b747-3976c957a4c6",
   "metadata": {},
   "source": [
    " ### Three scans in different spin-tune ranges"
   ]
  },
  {
   "cell_type": "code",
   "execution_count": 8,
   "id": "88c1d35b-48fa-49b3-84a9-abf924a65ce7",
   "metadata": {},
   "outputs": [
    {
     "name": "stdout",
     "output_type": "stream",
     "text": [
      "Compiling ContextCpu kernels...\n",
      "Done compiling ContextCpu kernels.\n"
     ]
    },
    {
     "data": {
      "application/vnd.jupyter.widget-view+json": {
       "model_id": "f324db87fcfe443f819d29a7dafe7c16",
       "version_major": 2,
       "version_minor": 0
      },
      "text/plain": [
       "Tracking:   0%|          | 0/15000 [00:00<?, ?it/s]"
      ]
     },
     "metadata": {},
     "output_type": "display_data"
    },
    {
     "data": {
      "application/vnd.jupyter.widget-view+json": {
       "model_id": "c48055353aa74ea4b5a8154bdeef4e93",
       "version_major": 2,
       "version_minor": 0
      },
      "text/plain": [
       "Tracking:   0%|          | 0/15000 [00:00<?, ?it/s]"
      ]
     },
     "metadata": {},
     "output_type": "display_data"
    },
    {
     "data": {
      "application/vnd.jupyter.widget-view+json": {
       "model_id": "d15d75dad9ed4eb48a7c911ab9a4fb9f",
       "version_major": 2,
       "version_minor": 0
      },
      "text/plain": [
       "Tracking:   0%|          | 0/15000 [00:00<?, ?it/s]"
      ]
     },
     "metadata": {},
     "output_type": "display_data"
    }
   ],
   "source": [
    "# enable spin tracking\n",
    "line.configure_spin('auto')\n",
    "\n",
    "# Scan in the range (0.44, 0.443)\n",
    "q0_scan_1 = 0.44\n",
    "kicker.q_start = q0_scan_1\n",
    "p = tw.particle_on_co.copy()\n",
    "line.track(p, num_turns=15000, turn_by_turn_monitor=True, with_progress=1000)\n",
    "spin_y_scan1 = line.record_last_track.spin_y[0, :]\n",
    "\n",
    "# Scan in the range (0.448, 0.451)\n",
    "q0_scan_2 = 0.448\n",
    "kicker.q_start = q0_scan_2\n",
    "p = tw.particle_on_co.copy()\n",
    "line.track(p, num_turns=15000, turn_by_turn_monitor=True, with_progress=1000)\n",
    "spin_y_scan2 = line.record_last_track.spin_y[0, :]\n",
    "\n",
    "# Scan in the range (0.453, 0.456)\n",
    "q0_scan_3 = 0.453\n",
    "kicker.q_start = q0_scan_3\n",
    "p = tw.particle_on_co.copy()\n",
    "line.track(p, num_turns=15000, turn_by_turn_monitor=True, with_progress=1000)\n",
    "spin_y_scan3 = line.record_last_track.spin_y[0, :]"
   ]
  },
  {
   "cell_type": "markdown",
   "id": "731b2a73-5cf0-4045-bdb8-3b95159bdbaa",
   "metadata": {},
   "source": [
    "### Plot spin vs excitation frequency"
   ]
  },
  {
   "cell_type": "code",
   "execution_count": 9,
   "id": "45bf243b-cdea-465f-8152-959ea568505d",
   "metadata": {},
   "outputs": [
    {
     "data": {
      "application/vnd.jupyter.widget-view+json": {
       "model_id": "103c24616628427f8c8f133503a2ca8d",
       "version_major": 2,
       "version_minor": 0
      },
      "image/png": "[encoded data removed]",
      "text/html": [
       "\n",
       "            <div style=\"display: inline-block;\">\n",
       "                <div class=\"jupyter-widgets widget-label\" style=\"text-align: center;\">\n",
       "                    Figure\n",
       "                </div>\n",
       "                <img src='data:image/png;base64,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' width=640.0/>\n",
       "            </div>\n",
       "        "
      ],
      "text/plain": [
       "Canvas(toolbar=Toolbar(toolitems=[('Home', 'Reset original view', 'home', 'home'), ('Back', 'Back to previous …"
      ]
     },
     "metadata": {},
     "output_type": "display_data"
    }
   ],
   "source": [
    "# Generate freq axes for the three scans\n",
    "q_scan_1 = np.linspace(q0_scan_1, q0_scan_1+kicker.q_span, int(kicker.num_turns))\n",
    "q_scan_2 = np.linspace(q0_scan_2, q0_scan_2+kicker.q_span, int(kicker.num_turns))\n",
    "q_scan_3 = np.linspace(q0_scan_3, q0_scan_3+kicker.q_span, int(kicker.num_turns))\n",
    "\n",
    "# Plot\n",
    "plt.figure()\n",
    "plt.plot(q_scan_1, spin_y_scan1)\n",
    "plt.plot(q_scan_2, spin_y_scan2)\n",
    "plt.plot(q_scan_3, spin_y_scan3)\n",
    "plt.ylabel('Spin y')\n",
    "l = plt.xlabel(r'$f_\\text{excit} / f_\\text{rev}$')"
   ]
  },
  {
   "cell_type": "code",
   "execution_count": null,
   "id": "2be27cce-94be-4408-b359-f078119fea72",
   "metadata": {},
   "outputs": [],
   "source": []
  }
 ],
 "metadata": {
  "kernelspec": {
   "display_name": "Python 3 (ipykernel)",
   "language": "python",
   "name": "python3"
  },
  "language_info": {
   "codemirror_mode": {
    "name": "ipython",
    "version": 3
   },
   "file_extension": ".py",
   "mimetype": "text/x-python",
   "name": "python",
   "nbconvert_exporter": "python",
   "pygments_lexer": "ipython3",
   "version": "3.11.11"
  }
 },
 "nbformat": 4,
 "nbformat_minor": 5
}
